{
 "cells": [
  {
   "cell_type": "code",
   "execution_count": 40,
   "metadata": {},
   "outputs": [],
   "source": [
    "# ライブラリのインポート\n",
    "import requests\n",
    "from bs4 import BeautifulSoup\n",
    "import time\n",
    "import datetime\n",
    "from datetime import timedelta\n",
    "from selenium import webdriver\n",
    "from selenium.webdriver.common.by import By\n",
    "from selenium.webdriver.support.ui import WebDriverWait\n",
    "from selenium.webdriver.support import expected_conditions as EC\n",
    "import chromedriver_binary\n",
    "from webdriver_manager.chrome import ChromeDriverManager\n",
    "import pandas as pd"
   ]
  },
  {
   "cell_type": "code",
   "execution_count": 41,
   "metadata": {},
   "outputs": [],
   "source": [
    "# Webdriverの初期設定\n",
    "options = webdriver.ChromeOptions()\n",
    "options.add_argument('--disable-gpu')\n",
    "options.add_argument('--disable-extensions')\n",
    "options.add_argument('--proxy-server=\"direct://\"')\n",
    "options.add_argument('--proxy-bypass-list=*')\n",
    "options.add_argument('--start-maximized')\n",
    "options.add_argument('--headless')\n",
    "session = requests.Session()\n",
    "headers = {\n",
    "    \"User-Agent\": \"Mozilla/5.0 (Macintosh; Intel Mac OS X 10_13_6) AppleWebKit/537.36 (KHTML, like Gecko) Chrome/69.0.3497.100 Safari/537.36\",\n",
    "    \"Accept\": \"text/html,application/xhtml+xml,application/xml;q=0.9,image/webp,image/apng,*/*;q=0.8\",\n",
    "}\n",
    "\n",
    "# スクレイピングサイトのURL指定\n",
    "target_url = 'https://www.cinemasunshine.co.jp/movie/'"
   ]
  },
  {
   "cell_type": "code",
   "execution_count": 42,
   "metadata": {},
   "outputs": [],
   "source": [
    "# driverの立ち上げ\n",
    "driver = webdriver.Chrome(ChromeDriverManager().install(), options=options)\n",
    "driver.get(target_url)\n",
    "\n",
    "# ページ更新待ち\n",
    "WebDriverWait(driver, 30).until(EC.presence_of_all_elements_located)\n",
    "time.sleep(3)\n",
    "\n",
    "# URLリンク先のhtml抽出\n",
    "html = driver.page_source\n",
    "time.sleep(1)\n",
    "soup = BeautifulSoup(html, \"html.parser\")\n",
    "\n",
    "# 　ポスター画像を保持するdivのセクションを抽出\n",
    "img_class_list = soup.find_all(class_='movie-image')"
   ]
  },
  {
   "cell_type": "code",
   "execution_count": 43,
   "metadata": {
    "collapsed": true
   },
   "outputs": [
    {
     "name": "stdout",
     "output_type": "stream",
     "text": [
      "ValueError\n",
      "noimage\n"
     ]
    }
   ],
   "source": [
    "img_name_list = []\n",
    "output_folder_path = './images/'\n",
    "\n",
    "for i in range(len(img_class_list)):\n",
    "    #     作品名の取得\n",
    "    title_name = img_class_list[i].find('img').get('alt')\n",
    "    \n",
    "    #    同じ作品のポスターを複数DLしないように条件分岐\n",
    "    if title_name not in img_name_list:\n",
    "        img_name_list.append(title_name)\n",
    "\n",
    "        # 保存先、画像名の指定\n",
    "        \n",
    "        try:\n",
    "            # 画像のDL\n",
    "            img_src = img_class_list[i].find('img').get('src')\n",
    "            image = session.get(img_src, headers = headers)\n",
    "            open(save_path, 'wb').write(image.content)\n",
    "            time.sleep(3)\n",
    "            \n",
    "        except ValueError:\n",
    "            #  DL失敗した時の通知\n",
    "            print('ValueError')\n",
    "            print(title_name)"
   ]
  }
 ],
 "metadata": {
  "kernelspec": {
   "display_name": "Python 3",
   "language": "python",
   "name": "python3"
  },
  "language_info": {
   "codemirror_mode": {
    "name": "ipython",
    "version": 3
   },
   "file_extension": ".py",
   "mimetype": "text/x-python",
   "name": "python",
   "nbconvert_exporter": "python",
   "pygments_lexer": "ipython3",
   "version": "3.8.5"
  }
 },
 "nbformat": 4,
 "nbformat_minor": 4
}
